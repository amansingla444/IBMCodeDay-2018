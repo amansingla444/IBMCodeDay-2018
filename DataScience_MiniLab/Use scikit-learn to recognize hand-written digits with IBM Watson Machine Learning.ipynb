{
 "cells": [
  {
   "cell_type": "markdown",
   "metadata": {},
   "source": [
    "<table style=\"border: none\" align=\"left\">\n",
    "   <tr style=\"border: none\">\n",
    "      <th style=\"border: none\"><font face=\"verdana\" size=\"5\" color=\"black\"><b>Recognition of hand-written digits with IBM Watson Machine Learning</b></th>\n",
    "      <th style=\"border: none\"><img src=\"https://github.com/pmservice/customer-satisfaction-prediction/blob/master/app/static/images/ml_icon_gray.png?raw=true\" alt=\"Watson Machine Learning icon\" height=\"40\" width=\"40\"></th>\n",
    "   </tr>\n",
    "   <tr style=\"border: none\">\n",
    "       <th style=\"border: none\"><img src=\"https://github.com/pmservice/wml-sample-models/raw/master/scikit-learn/hand-written-digits-recognition/images/numbers_banner-04.png\" width=\"600\" alt=\"Icon\"> </th>\n",
    "   </tr>\n",
    "</table>"
   ]
  },
  {
   "cell_type": "markdown",
   "metadata": {},
   "source": [
    "This notebook contains steps and code to get data from the IBM Data Science Experience Community, create a predictive model, and start scoring new data. This notebook introduces commands for getting data and for basic data cleaning and exploration, pipeline creation, model training, model persistance to Watson Machine Learning repository, model deployment, and scoring.\n",
    "\n",
    "Some familiarity with Python is helpful. This notebook uses Python 3.5 and scikit-learn 0.17 package.\n",
    "\n",
    "You will use a toy dataset available in scikit-learn, **sklearn.datasets.load_digits**, which contains hand-written digits images. Use the toy dataset to recognize hand-written digits.\n",
    "\n",
    "## Learning goals\n",
    "\n",
    "The learning goals of this notebook are:\n",
    "\n",
    "-  Load a toy dataset from scikit-learn.\n",
    "-  Explore data.\n",
    "-  Prepare data for training and evaluation.\n",
    "-  Create Scikit-learn machine learning pipeline.\n",
    "-  Train and evaluate a model.\n",
    "-  Persist a pipeline and model in Watson Machine Learning repository.\n",
    "-  Deploy a model for online scoring using Wastson Machine Learning API.\n",
    "-  Score sample scoring data using the Watson Machine Learning API.\n",
    "-  Explore and visualize prediction result using matplotlib package.\n",
    "\n",
    "\n",
    "## Contents\n",
    "\n",
    "This notebook contains the following parts:\n",
    "\n",
    "1.\t[Setup](#setup)\n",
    "2.\t[Load and explore data](#load)\n",
    "3.\t[Create scikit-learn model](#model)\n",
    "4.\t[Persist model](#persistence)\n",
    "5.\t[Predict locally and visualize](#visualization)\n",
    "6.\t[Deploy and score in a Cloud](#scoring)\n",
    "7.\t[Summary and next steps](#summary)"
   ]
  },
  {
   "cell_type": "markdown",
   "metadata": {},
   "source": [
    "<a id=\"setup\"></a>\n",
    "## 1. Setup\n",
    "\n",
    "Before you use the sample code in this notebook, you must perform the following setup task:\n",
    "\n",
    "-  Create a [Watson Machine Learning Service](https://console.ng.bluemix.net/catalog/services/ibm-watson-machine-learning/) instance (a free plan is offered). "
   ]
  },
  {
   "cell_type": "markdown",
   "metadata": {},
   "source": [
    "<a id=\"load\"></a>\n",
    "## 2. Load and explore data"
   ]
  },
  {
   "cell_type": "markdown",
   "metadata": {},
   "source": [
    "In this section you will load the data from scikit-learn toy datasets and perform a basic exploration."
   ]
  },
  {
   "cell_type": "markdown",
   "metadata": {},
   "source": [
    "**Example**: First, you need to install required packages. You can do it by running the following code. Run it only one time.<BR><BR>\n",
    "!pip install sklearn --user <BR>"
   ]
  },
  {
   "cell_type": "code",
   "execution_count": 1,
   "metadata": {
    "collapsed": true
   },
   "outputs": [],
   "source": [
    "from sklearn import datasets\n",
    "\n",
    "digits = datasets.load_digits()"
   ]
  },
  {
   "cell_type": "markdown",
   "metadata": {},
   "source": [
    "Loaded toy dataset consists of 8x8 pixels images of hand-written digits. In next step you will plot first 5 images using **matplotlib** library."
   ]
  },
  {
   "cell_type": "code",
   "execution_count": 2,
   "metadata": {
    "collapsed": false,
    "scrolled": true
   },
   "outputs": [
    {
     "data": {
      "image/png": "[encoded data removed]",
      "text/plain": [
       "<matplotlib.figure.Figure at 0x1174f1358>"
      ]
     },
     "metadata": {},
     "output_type": "display_data"
    }
   ],
   "source": [
    "%matplotlib inline\n",
    "import matplotlib.pyplot as plt\n",
    "\n",
    "images_number = 10\n",
    "images_and_labels = list(zip(digits.images, digits.target))\n",
    "\n",
    "for i, (image, label) in enumerate(images_and_labels[:images_number]):\n",
    "    plt.subplot(2, images_number, i + 1)\n",
    "    plt.axis('off')\n",
    "    plt.imshow(image, cmap=plt.cm.gray_r, interpolation='nearest')\n",
    "    plt.title('%i' % label)"
   ]
  },
  {
   "cell_type": "markdown",
   "metadata": {},
   "source": [
    "Let's display first digit data and label using **data** and **target**."
   ]
  },
  {
   "cell_type": "code",
   "execution_count": 3,
   "metadata": {
    "collapsed": false
   },
   "outputs": [
    {
     "name": "stdout",
     "output_type": "stream",
     "text": [
      "[  0.   0.   5.  13.   9.   1.   0.   0.   0.   0.  13.  15.  10.  15.   5.\n",
      "   0.   0.   3.  15.   2.   0.  11.   8.   0.   0.   4.  12.   0.   0.   8.\n",
      "   8.   0.   0.   5.   8.   0.   0.   9.   8.   0.   0.   4.  11.   0.   1.\n",
      "  12.   7.   0.   0.   2.  14.   5.  10.  12.   0.   0.   0.   0.   6.  13.\n",
      "  10.   0.   0.   0.]\n"
     ]
    }
   ],
   "source": [
    "print(digits.data[0])"
   ]
  },
  {
   "cell_type": "code",
   "execution_count": 8,
   "metadata": {
    "collapsed": false
   },
   "outputs": [
    {
     "data": {
      "text/plain": [
       "7"
      ]
     },
     "execution_count": 8,
     "metadata": {},
     "output_type": "execute_result"
    }
   ],
   "source": [
    "digits.target[1200]"
   ]
  },
  {
   "cell_type": "markdown",
   "metadata": {},
   "source": [
    "In next step you will count all samples."
   ]
  },
  {
   "cell_type": "code",
   "execution_count": 9,
   "metadata": {
    "collapsed": false
   },
   "outputs": [
    {
     "name": "stdout",
     "output_type": "stream",
     "text": [
      "Number of samples: 1797\n"
     ]
    }
   ],
   "source": [
    "samples_count = len(digits.images)\n",
    "print(\"Number of samples: \" + str(samples_count))"
   ]
  },
  {
   "cell_type": "markdown",
   "metadata": {},
   "source": [
    "<a id=\"model\"></a>\n",
    "## 3. Create a Scikit-learn machine learning model\n",
    "\n",
    "In this section you will learn how to prepare data, create a Scikit-learn machine learning pipeline, and train a model."
   ]
  },
  {
   "cell_type": "markdown",
   "metadata": {},
   "source": [
    "### 3.1: Prepare data\n",
    "\n",
    "In this subsection you will split your data into: train, test datasets."
   ]
  },
  {
   "cell_type": "code",
   "execution_count": 10,
   "metadata": {
    "collapsed": false
   },
   "outputs": [
    {
     "name": "stdout",
     "output_type": "stream",
     "text": [
      "Number of training records: 1257\n",
      "Number of testing records : 360\n",
      "Number of scoring records : 180\n"
     ]
    }
   ],
   "source": [
    "train_data = digits.data[: int(0.7*samples_count)]\n",
    "train_labels = digits.target[: int(0.7*samples_count)]\n",
    "\n",
    "test_data = digits.data[int(0.7*samples_count): int(0.9*samples_count)]\n",
    "test_labels = digits.target[int(0.7*samples_count): int(0.9*samples_count)]\n",
    "\n",
    "score_data = digits.data[int(0.9*samples_count): ]\n",
    "\n",
    "\n",
    "print(\"Number of training records: \" + str(len(train_data)))\n",
    "print(\"Number of testing records : \" + str(len(test_data)))\n",
    "print(\"Number of scoring records : \" + str(len(score_data)))\n"
   ]
  },
  {
   "cell_type": "markdown",
   "metadata": {},
   "source": [
    "As you can see our data has been successfully split into two datasets: \n",
    "\n",
    "-  The train data set, which is the largest group, is used for training.\n",
    "-  The test data set will be used for model evaluation and is used to test the assumptions of the model.\n",
    "-  The score data set will be used for scoring in Cloud."
   ]
  },
  {
   "cell_type": "markdown",
   "metadata": {},
   "source": [
    "### 3.2: Create pipeline and train a model"
   ]
  },
  {
   "cell_type": "markdown",
   "metadata": {},
   "source": [
    "In this section you will create scikit-learn machine learning pipeline and then train the model."
   ]
  },
  {
   "cell_type": "markdown",
   "metadata": {},
   "source": [
    "In the first step you need to import the scikit-learn machine learning packages that will be needed in the subsequent steps."
   ]
  },
  {
   "cell_type": "code",
   "execution_count": 11,
   "metadata": {
    "collapsed": true
   },
   "outputs": [],
   "source": [
    "from sklearn.pipeline import Pipeline\n",
    "from sklearn import preprocessing\n",
    "from sklearn import svm, metrics"
   ]
  },
  {
   "cell_type": "markdown",
   "metadata": {},
   "source": [
    "Standardize features by removing the mean and scaling to unit variance."
   ]
  },
  {
   "cell_type": "code",
   "execution_count": 12,
   "metadata": {
    "collapsed": true
   },
   "outputs": [],
   "source": [
    "scaler = preprocessing.StandardScaler()"
   ]
  },
  {
   "cell_type": "markdown",
   "metadata": {},
   "source": [
    "Next, define estimators you want to use for classification. Support Vector Machines with radial basis function as kernel is used in the following example."
   ]
  },
  {
   "cell_type": "code",
   "execution_count": 13,
   "metadata": {
    "collapsed": true
   },
   "outputs": [],
   "source": [
    "clf = svm.SVC(kernel='rbf')"
   ]
  },
  {
   "cell_type": "markdown",
   "metadata": {},
   "source": [
    "Let's build the pipeline now. A pipeline consists of transformers and an estimator."
   ]
  },
  {
   "cell_type": "code",
   "execution_count": 14,
   "metadata": {
    "collapsed": true
   },
   "outputs": [],
   "source": [
    "pipeline = Pipeline([('scaler', scaler), ('svc', clf)])"
   ]
  },
  {
   "cell_type": "markdown",
   "metadata": {},
   "source": [
    "Now, you can train your SVM model by using the previously defined **pipeline** and **train data**."
   ]
  },
  {
   "cell_type": "code",
   "execution_count": 16,
   "metadata": {
    "collapsed": true
   },
   "outputs": [],
   "source": [
    "model = pipeline.fit(train_data, train_labels)"
   ]
  },
  {
   "cell_type": "markdown",
   "metadata": {},
   "source": [
    "You can check your **model quality** now. To evaluate the model, use **test data**."
   ]
  },
  {
   "cell_type": "code",
   "execution_count": 17,
   "metadata": {
    "collapsed": false
   },
   "outputs": [
    {
     "name": "stdout",
     "output_type": "stream",
     "text": [
      "Evaluation report: \n",
      "\n",
      "             precision    recall  f1-score   support\n",
      "\n",
      "          0       1.00      0.97      0.99        37\n",
      "          1       0.97      0.97      0.97        34\n",
      "          2       1.00      0.97      0.99        36\n",
      "          3       1.00      0.94      0.97        35\n",
      "          4       0.78      0.97      0.87        37\n",
      "          5       0.97      0.97      0.97        38\n",
      "          6       0.97      0.86      0.91        36\n",
      "          7       0.92      0.97      0.94        35\n",
      "          8       0.91      0.89      0.90        35\n",
      "          9       0.97      0.92      0.94        37\n",
      "\n",
      "avg / total       0.95      0.94      0.95       360\n",
      "\n"
     ]
    }
   ],
   "source": [
    "predicted = model.predict(test_data)\n",
    "\n",
    "print(\"Evaluation report: \\n\\n%s\" % metrics.classification_report(test_labels, predicted))"
   ]
  },
  {
   "cell_type": "markdown",
   "metadata": {
    "collapsed": true
   },
   "source": [
    "You can tune your model now to achieve better accuracy. For simplicity of this example tuning section is omitted."
   ]
  },
  {
   "cell_type": "code",
   "execution_count": 25,
   "metadata": {
    "collapsed": false
   },
   "outputs": [
    {
     "name": "stdout",
     "output_type": "stream",
     "text": [
      "Collecting python-gi\n",
      "\u001b[31m  Could not find a version that satisfies the requirement python-gi (from versions: )\u001b[0m\n",
      "\u001b[31mNo matching distribution found for python-gi\u001b[0m\n"
     ]
    }
   ],
   "source": [
    "!pip install python-gi"
   ]
  },
  {
   "cell_type": "markdown",
   "metadata": {
    "collapsed": true
   },
   "source": [
    "<a id=\"persistence\"></a>\n",
    "## 4. Persist model"
   ]
  },
  {
   "cell_type": "markdown",
   "metadata": {},
   "source": [
    "In this section you will learn how to store your pipeline and model in Watson Machine Learning repository by using python client libraries."
   ]
  },
  {
   "cell_type": "markdown",
   "metadata": {
    "collapsed": true
   },
   "source": [
    "First, you must import client libraries."
   ]
  },
  {
   "cell_type": "code",
   "execution_count": 1,
   "metadata": {
    "collapsed": false
   },
   "outputs": [
    {
     "ename": "ImportError",
     "evalue": "No module named 'repository'",
     "output_type": "error",
     "traceback": [
      "\u001b[0;31m---------------------------------------------------------------------------\u001b[0m",
      "\u001b[0;31mImportError\u001b[0m                               Traceback (most recent call last)",
      "\u001b[0;32m<ipython-input-1-ddcdf14027cd>\u001b[0m in \u001b[0;36m<module>\u001b[0;34m()\u001b[0m\n\u001b[0;32m----> 1\u001b[0;31m \u001b[0;32mfrom\u001b[0m \u001b[0mrepository\u001b[0m\u001b[0;34m.\u001b[0m\u001b[0mmlrepositoryclient\u001b[0m \u001b[0;32mimport\u001b[0m \u001b[0mMLRepositoryClient\u001b[0m\u001b[0;34m\u001b[0m\u001b[0m\n\u001b[0m\u001b[1;32m      2\u001b[0m \u001b[0;32mfrom\u001b[0m \u001b[0mrepository\u001b[0m\u001b[0;34m.\u001b[0m\u001b[0mmlrepositoryartifact\u001b[0m \u001b[0;32mimport\u001b[0m \u001b[0mMLRepositoryArtifact\u001b[0m\u001b[0;34m\u001b[0m\u001b[0m\n\u001b[1;32m      3\u001b[0m \u001b[0;32mfrom\u001b[0m \u001b[0mrepository\u001b[0m\u001b[0;34m.\u001b[0m\u001b[0mmlrepository\u001b[0m \u001b[0;32mimport\u001b[0m \u001b[0mMetaProps\u001b[0m\u001b[0;34m,\u001b[0m \u001b[0mMetaNames\u001b[0m\u001b[0;34m\u001b[0m\u001b[0m\n",
      "\u001b[0;31mImportError\u001b[0m: No module named 'repository'"
     ]
    }
   ],
   "source": [
    "from repository.mlrepositoryclient import MLRepositoryClient\n",
    "from repository.mlrepositoryartifact import MLRepositoryArtifact\n",
    "from repository.mlrepository import MetaProps, MetaNames"
   ]
  },
  {
   "cell_type": "markdown",
   "metadata": {
    "collapsed": true
   },
   "source": [
    "Authenticate to Watson Machine Learning service on Bluemix."
   ]
  },
  {
   "cell_type": "markdown",
   "metadata": {},
   "source": [
    "**Action**: Put authentication information from your instance of Watson Machine Learning service here.</div>"
   ]
  },
  {
   "cell_type": "code",
   "execution_count": 16,
   "metadata": {
    "collapsed": true
   },
   "outputs": [],
   "source": [
    "service_path = 'https://ibm-watson-ml.mybluemix.net'\n",
    "username = '74d73731-6b55-4993-b58b-9e6d957a7ac7'\n",
    "password = 'ecb13e88-eadb-442a-a577-c9e13a0deb25'\n",
    "instance_id = 'a9690a63-f303-409a-87e1-a93383d9a9b3'"
   ]
  },
  {
   "cell_type": "markdown",
   "metadata": {
    "collapsed": true
   },
   "source": [
    "**Tip**: service_path, user and password can be found on **Service Credentials** tab of service instance created in Bluemix. If you cannot see **instance_id** field in **Serice Credentials** generate new credentials by pressing **New credential (+)** button. "
   ]
  },
  {
   "cell_type": "code",
   "execution_count": 17,
   "metadata": {
    "collapsed": true
   },
   "outputs": [],
   "source": [
    "ml_repository_client = MLRepositoryClient(service_path)\n",
    "ml_repository_client.authorize(username, password)"
   ]
  },
  {
   "cell_type": "markdown",
   "metadata": {},
   "source": [
    "Create model artifact (abstraction layer)."
   ]
  },
  {
   "cell_type": "code",
   "execution_count": 18,
   "metadata": {
    "collapsed": true
   },
   "outputs": [],
   "source": [
    "props = MetaProps({MetaNames.AUTHOR_NAME:\"sumit bhalla\", MetaNames.AUTHOR_EMAIL:\"sbhalla0@in.ibm.com\"})"
   ]
  },
  {
   "cell_type": "code",
   "execution_count": 19,
   "metadata": {
    "collapsed": true
   },
   "outputs": [],
   "source": [
    "model_artifact = MLRepositoryArtifact(model, name=\"Hand-written digits recognition\", meta_props=props)"
   ]
  },
  {
   "cell_type": "markdown",
   "metadata": {},
   "source": [
    "**Tip**: The MLRepositoryArtifact method expects a trained model object, training data, and a model name. (It is this model name that is displayed by the Watson Machine Learning service)."
   ]
  },
  {
   "cell_type": "markdown",
   "metadata": {},
   "source": [
    "### 4.1: Save pipeline and model"
   ]
  },
  {
   "cell_type": "markdown",
   "metadata": {},
   "source": [
    "In this subsection you will learn how to save pipeline and model artifacts to your Watson Machine Learning instance."
   ]
  },
  {
   "cell_type": "code",
   "execution_count": 20,
   "metadata": {
    "collapsed": true
   },
   "outputs": [],
   "source": [
    "saved_model = ml_repository_client.models.save(model_artifact)"
   ]
  },
  {
   "cell_type": "markdown",
   "metadata": {},
   "source": [
    "Get saved model metadata from Watson Machine Learning."
   ]
  },
  {
   "cell_type": "markdown",
   "metadata": {},
   "source": [
    "**Tip**: Use *meta.available_props()* to get the list of available props."
   ]
  },
  {
   "cell_type": "code",
   "execution_count": 21,
   "metadata": {
    "collapsed": false
   },
   "outputs": [
    {
     "data": {
      "text/plain": [
       "dict_keys(['lastUpdated', 'version', 'authorEmail', 'trainingDataRef', 'runtime', 'pipelineVersionHref', 'modelVersionHref', 'creationTime', 'modelType', 'authorName'])"
      ]
     },
     "execution_count": 21,
     "metadata": {},
     "output_type": "execute_result"
    }
   ],
   "source": [
    "saved_model.meta.available_props()"
   ]
  },
  {
   "cell_type": "code",
   "execution_count": 22,
   "metadata": {
    "collapsed": false
   },
   "outputs": [
    {
     "name": "stdout",
     "output_type": "stream",
     "text": [
      "modelType: scikit-model-0.17\n",
      "runtime: python-3.5\n",
      "creationTime: 2018-02-18 17:58:50.704000+00:00\n",
      "modelVersionHref: https://ibm-watson-ml.mybluemix.net/v2/artifacts/models/9c1da404-cf40-4e16-bb02-28703bb87467/versions/435eb0c1-705e-4e30-993c-7dc35af321f5\n"
     ]
    }
   ],
   "source": [
    "print(\"modelType: \" + saved_model.meta.prop(\"modelType\"))\n",
    "print(\"runtime: \" + saved_model.meta.prop(\"runtime\"))\n",
    "print(\"creationTime: \" + str(saved_model.meta.prop(\"creationTime\")))\n",
    "print(\"modelVersionHref: \" + saved_model.meta.prop(\"modelVersionHref\"))"
   ]
  },
  {
   "cell_type": "markdown",
   "metadata": {},
   "source": [
    "**Tip**: **modelVersionHref** is our model unique indentifier in the Watson Machine Learning repository."
   ]
  },
  {
   "cell_type": "markdown",
   "metadata": {},
   "source": [
    "### 4.2: Load model"
   ]
  },
  {
   "cell_type": "markdown",
   "metadata": {},
   "source": [
    "In this subsection you will learn how to load back saved model from specified instance of Watson Machine Learning."
   ]
  },
  {
   "cell_type": "code",
   "execution_count": 23,
   "metadata": {
    "collapsed": true
   },
   "outputs": [],
   "source": [
    "loadedModelArtifact = ml_repository_client.models.get(saved_model.uid)"
   ]
  },
  {
   "cell_type": "markdown",
   "metadata": {},
   "source": [
    "You can print for example model name to make sure that model has been loaded correctly."
   ]
  },
  {
   "cell_type": "code",
   "execution_count": 25,
   "metadata": {
    "collapsed": false
   },
   "outputs": [
    {
     "name": "stdout",
     "output_type": "stream",
     "text": [
      "Hand-written digits recognition\n",
      "9c1da404-cf40-4e16-bb02-28703bb87467\n"
     ]
    }
   ],
   "source": [
    "print(loadedModelArtifact.name)\n",
    "print(saved_model.uid)"
   ]
  },
  {
   "cell_type": "markdown",
   "metadata": {},
   "source": [
    "As you can see the name is correct. You have already learned how save and load the model from Watson Machine Learning repository."
   ]
  },
  {
   "cell_type": "markdown",
   "metadata": {},
   "source": [
    "<a id=\"visualization\"></a>\n",
    "## 5. Predict locally and visualize"
   ]
  },
  {
   "cell_type": "markdown",
   "metadata": {},
   "source": [
    "In this section you will learn how to score test data using loaded model and visualize the prediction results with plotly package."
   ]
  },
  {
   "cell_type": "markdown",
   "metadata": {},
   "source": [
    "### 5.1: Make local prediction using previously loaded model and score data"
   ]
  },
  {
   "cell_type": "markdown",
   "metadata": {},
   "source": [
    "In this subsection you will score *predict_data* data set."
   ]
  },
  {
   "cell_type": "code",
   "execution_count": 26,
   "metadata": {
    "collapsed": true
   },
   "outputs": [],
   "source": [
    "predictions = loadedModelArtifact.model_instance().predict(score_data)"
   ]
  },
  {
   "cell_type": "markdown",
   "metadata": {},
   "source": [
    "Print prediction results."
   ]
  },
  {
   "cell_type": "code",
   "execution_count": 27,
   "metadata": {
    "collapsed": false
   },
   "outputs": [
    {
     "name": "stdout",
     "output_type": "stream",
     "text": [
      "[5 2 8 0 1 7 6 3 2 1 7 8 6 3 1 3 9 1 7 6 8 4 3 1 4 0 5 3 6 9 6 1 7 5 4 4 7\n",
      " 2 2 5 4 3 5 8 4 5 0 8 9 8 0 1 2 3 4 5 6 7 8 9 0 1 2 3 4 5 6 7 8 9 0 1 2 5\n",
      " 4 5 6 7 8 9 0 9 5 5 6 5 0 9 8 9 8 4 1 7 7 3 5 1 0 0 2 2 7 8 2 0 1 2 6 8 8\n",
      " 7 5 3 4 6 6 6 4 9 1 5 0 9 5 2 8 2 0 0 1 7 6 3 2 1 7 4 6 3 1 3 9 1 7 6 8 4\n",
      " 5 1 4 0 5 3 6 9 6 1 7 5 4 4 7 2 8 2 2 5 7 9 5 4 8 8 4 9 0 8 9 8]\n"
     ]
    }
   ],
   "source": [
    "print(predictions)"
   ]
  },
  {
   "cell_type": "markdown",
   "metadata": {},
   "source": [
    "### 5.2: Sample visualization of data with matplotlib package"
   ]
  },
  {
   "cell_type": "code",
   "execution_count": 28,
   "metadata": {
    "collapsed": false
   },
   "outputs": [
    {
     "data": {
      "image/png": "[encoded data removed]",
      "text/plain": [
       "<matplotlib.figure.Figure at 0x7fb58e07da90>"
      ]
     },
     "metadata": {},
     "output_type": "display_data"
    }
   ],
   "source": [
    "images_and_predictions = list(zip(digits.images[int(0.9*samples_count): ], predictions))\n",
    "for i, (image, prediction) in enumerate(images_and_predictions[:4]):\n",
    "    plt.subplot(2, 4, i + 5)\n",
    "    plt.axis('off')\n",
    "    plt.imshow(image, cmap=plt.cm.gray_r, interpolation='nearest')\n",
    "    plt.title('Prediction: %i' % prediction)"
   ]
  },
  {
   "cell_type": "markdown",
   "metadata": {},
   "source": [
    "<a id=\"scoring\"></a>\n",
    "## 6. Deploy and score in a Cloud"
   ]
  },
  {
   "cell_type": "markdown",
   "metadata": {},
   "source": [
    "In this section you will learn how to create online scoring and to score a new data record by using the Watson Machine Learning REST API. \n",
    "For more information about REST APIs, see the [Swagger Documentation](http://watson-ml-api.mybluemix.net/)."
   ]
  },
  {
   "cell_type": "markdown",
   "metadata": {
    "collapsed": true
   },
   "source": [
    "To work with the Watson Machine Leraning REST API you must generate an access token. To do that you can use the following sample code:"
   ]
  },
  {
   "cell_type": "code",
   "execution_count": 29,
   "metadata": {
    "collapsed": true
   },
   "outputs": [],
   "source": [
    "import urllib3, requests, json\n",
    "\n",
    "headers = urllib3.util.make_headers(basic_auth='{}:{}'.format(username, password))\n",
    "url = '{}/v3/identity/token'.format(service_path)\n",
    "response = requests.get(url, headers=headers)\n",
    "mltoken = json.loads(response.text).get('token')"
   ]
  },
  {
   "cell_type": "markdown",
   "metadata": {},
   "source": [
    "### 6.1: Create model deployment"
   ]
  },
  {
   "cell_type": "markdown",
   "metadata": {},
   "source": [
    "Get published_models url from instance details."
   ]
  },
  {
   "cell_type": "markdown",
   "metadata": {},
   "source": [
    "#### Get instance details"
   ]
  },
  {
   "cell_type": "code",
   "execution_count": 30,
   "metadata": {
    "collapsed": false
   },
   "outputs": [
    {
     "name": "stdout",
     "output_type": "stream",
     "text": [
      "<Response [200]>\n",
      "{\"metadata\":{\"guid\":\"a9690a63-f303-409a-87e1-a93383d9a9b3\",\"url\":\"https://ibm-watson-ml.mybluemix.net/v3/wml_instances/a9690a63-f303-409a-87e1-a93383d9a9b3\",\"created_at\":\"2017-11-07T11:23:07.050Z\",\"modified_at\":\"2018-02-18T17:58:51.224Z\"},\"entity\":{\"source\":\"Bluemix\",\"published_models\":{\"url\":\"https://ibm-watson-ml.mybluemix.net/v3/wml_instances/a9690a63-f303-409a-87e1-a93383d9a9b3/published_models\"},\"usage\":{\"expiration_date\":\"2018-03-01T00:00:00.000Z\",\"computation_time\":{\"limit\":18000,\"current\":0},\"model_count\":{\"limit\":200,\"current\":3},\"prediction_count\":{\"limit\":5000,\"current\":0},\"deployment_count\":{\"limit\":5,\"current\":1}},\"plan_id\":\"3f6acf43-ede8-413a-ac69-f8af3bb0cbfe\",\"status\":\"Active\",\"organization_guid\":\"0acba85d-60c1-45ef-96b1-2c0fbc9d3b9f\",\"region\":\"us-south\",\"account\":{\"id\":\"16ec570023ac274cc65511b85b870430\",\"name\":\"IBM\",\"type\":\"TRIAL\"},\"owner\":{\"user_id\":\"a0826ef3-3d52-4ba1-9801-6ac7c1c163d5\",\"email\":\"sbhalla0@in.ibm.com\",\"country_code\":\"IND\",\"beta_user\":true},\"deployments\":{\"url\":\"https://ibm-watson-ml.mybluemix.net/v3/wml_instances/a9690a63-f303-409a-87e1-a93383d9a9b3/deployments\"},\"space_guid\":\"5b14b636-af3f-481f-8eec-5a3bc3a2cb1a\",\"plan\":\"lite\"}}\n"
     ]
    }
   ],
   "source": [
    "endpoint_instance = service_path + \"/v3/wml_instances/\" + instance_id\n",
    "header = {'Content-Type': 'application/json', 'Authorization': 'Bearer ' + mltoken} \n",
    "\n",
    "response_get_instance = requests.get(endpoint_instance, headers=header)\n",
    "print(response_get_instance)\n",
    "print(response_get_instance.text)"
   ]
  },
  {
   "cell_type": "code",
   "execution_count": 31,
   "metadata": {
    "collapsed": false
   },
   "outputs": [
    {
     "name": "stdout",
     "output_type": "stream",
     "text": [
      "https://ibm-watson-ml.mybluemix.net/v3/wml_instances/a9690a63-f303-409a-87e1-a93383d9a9b3/published_models\n"
     ]
    }
   ],
   "source": [
    "endpoint_published_models = json.loads(response_get_instance.text).get('entity').get('published_models').get('url')\n",
    "\n",
    "print(endpoint_published_models)"
   ]
  },
  {
   "cell_type": "markdown",
   "metadata": {},
   "source": [
    "Execute the following sample code that uses the published_models endpoint to get deployments url."
   ]
  },
  {
   "cell_type": "markdown",
   "metadata": {},
   "source": [
    "#### Get the list of published models"
   ]
  },
  {
   "cell_type": "code",
   "execution_count": 32,
   "metadata": {
    "collapsed": false
   },
   "outputs": [
    {
     "name": "stdout",
     "output_type": "stream",
     "text": [
      "<Response [200]>\n",
      "{\"count\":3,\"resources\":[{\"metadata\":{\"guid\":\"6e2ade02-fce1-44fc-91b5-a0a0351d21a9\",\"url\":\"https://ibm-watson-ml.mybluemix.net/v3/wml_instances/a9690a63-f303-409a-87e1-a93383d9a9b3/published_models/6e2ade02-fce1-44fc-91b5-a0a0351d21a9\",\"created_at\":\"2018-01-19T03:23:23.100Z\",\"modified_at\":\"2018-01-19T03:26:15.304Z\"},\"entity\":{\"runtime_environment\":\"spark-2.0\",\"learning_configuration_url\":\"https://ibm-watson-ml.mybluemix.net/v3/wml_instances/a9690a63-f303-409a-87e1-a93383d9a9b3/published_models/6e2ade02-fce1-44fc-91b5-a0a0351d21a9/learning_configuration\",\"author\":{\"name\":\"Sumit Bhalla\",\"email\":\"sbhalla0@in.ibm.com\"},\"name\":\"logistic regression\",\"label_col\":\"IS_TENT\",\"learning_iterations_url\":\"https://ibm-watson-ml.mybluemix.net/v3/wml_instances/a9690a63-f303-409a-87e1-a93383d9a9b3/published_models/6e2ade02-fce1-44fc-91b5-a0a0351d21a9/learning_iterations\",\"training_data_schema\":{\"type\":\"struct\",\"fields\":[{\"name\":\"IS_TENT\",\"type\":\"string\",\"nullable\":true,\"metadata\":{\"columnInfo\":{\"columnPrimaryKey\":false,\"columnTypeName\":\"varchar\",\"columnSigned\":true,\"columnType\":12,\"columnLength\":1024,\"columnNullable\":true,\"columnScale\":0}}},{\"name\":\"GENDER\",\"type\":\"string\",\"nullable\":true,\"metadata\":{\"columnInfo\":{\"columnPrimaryKey\":false,\"columnTypeName\":\"varchar\",\"columnSigned\":true,\"columnType\":12,\"columnLength\":1024,\"columnNullable\":true,\"columnScale\":0}}},{\"name\":\"AGE\",\"type\":\"integer\",\"nullable\":true,\"metadata\":{\"columnInfo\":{\"columnPrimaryKey\":false,\"columnTypeName\":\"integer\",\"columnSigned\":true,\"columnType\":4,\"columnLength\":-1,\"columnNullable\":true,\"columnScale\":0}}},{\"name\":\"MARITAL_STATUS\",\"type\":\"string\",\"nullable\":true,\"metadata\":{\"columnInfo\":{\"columnPrimaryKey\":false,\"columnTypeName\":\"varchar\",\"columnSigned\":true,\"columnType\":12,\"columnLength\":1024,\"columnNullable\":true,\"columnScale\":0}}},{\"name\":\"PROFESSION\",\"type\":\"string\",\"nullable\":true,\"metadata\":{\"columnInfo\":{\"columnPrimaryKey\":false,\"columnTypeName\":\"varchar\",\"columnSigned\":true,\"columnType\":12,\"columnLength\":1024,\"columnNullable\":true,\"columnScale\":0}}}]},\"feedback_url\":\"https://ibm-watson-ml.mybluemix.net/v3/wml_instances/a9690a63-f303-409a-87e1-a93383d9a9b3/published_models/6e2ade02-fce1-44fc-91b5-a0a0351d21a9/feedback\",\"latest_version\":{\"url\":\"https://ibm-watson-ml.mybluemix.net/v3/ml_assets/models/6e2ade02-fce1-44fc-91b5-a0a0351d21a9/versions/02b0b824-a069-4667-a6d3-33902bd5ae1f\",\"guid\":\"02b0b824-a069-4667-a6d3-33902bd5ae1f\",\"created_at\":\"2018-01-19T03:23:23.182Z\"},\"model_type\":\"wml-1.1\",\"deployments\":{\"count\":1,\"url\":\"https://ibm-watson-ml.mybluemix.net/v3/wml_instances/a9690a63-f303-409a-87e1-a93383d9a9b3/published_models/6e2ade02-fce1-44fc-91b5-a0a0351d21a9/deployments\"},\"deployed_version\":{\"url\":\"https://ibm-watson-ml.mybluemix.net/v3/ml_assets/models/6e2ade02-fce1-44fc-91b5-a0a0351d21a9/versions/02b0b824-a069-4667-a6d3-33902bd5ae1f\",\"guid\":\"02b0b824-a069-4667-a6d3-33902bd5ae1f\"},\"evaluation_metrics_url\":\"https://ibm-watson-ml.mybluemix.net/v3/wml_instances/a9690a63-f303-409a-87e1-a93383d9a9b3/published_models/6e2ade02-fce1-44fc-91b5-a0a0351d21a9/evaluation_metrics\",\"input_data_schema\":{\"type\":\"struct\",\"fields\":[{\"name\":\"GENDER\",\"type\":\"string\",\"nullable\":true,\"metadata\":{\"columnInfo\":{\"columnPrimaryKey\":false,\"columnTypeName\":\"varchar\",\"columnSigned\":true,\"columnType\":12,\"columnLength\":1024,\"columnNullable\":true,\"columnScale\":0}}},{\"name\":\"AGE\",\"type\":\"integer\",\"nullable\":true,\"metadata\":{\"columnInfo\":{\"columnPrimaryKey\":false,\"columnTypeName\":\"integer\",\"columnSigned\":true,\"columnType\":4,\"columnLength\":-1,\"columnNullable\":true,\"columnScale\":0}}},{\"name\":\"MARITAL_STATUS\",\"type\":\"string\",\"nullable\":true,\"metadata\":{\"columnInfo\":{\"columnPrimaryKey\":false,\"columnTypeName\":\"varchar\",\"columnSigned\":true,\"columnType\":12,\"columnLength\":1024,\"columnNullable\":true,\"columnScale\":0}}},{\"name\":\"PROFESSION\",\"type\":\"string\",\"nullable\":true,\"metadata\":{\"columnInfo\":{\"columnPrimaryKey\":false,\"columnTypeName\":\"varchar\",\"columnSigned\":true,\"columnType\":12,\"columnLength\":1024,\"columnNullable\":true,\"columnScale\":0}}}]}}},{\"metadata\":{\"guid\":\"a62d33e2-3558-4085-9df5-1cc484b13869\",\"url\":\"https://ibm-watson-ml.mybluemix.net/v3/wml_instances/a9690a63-f303-409a-87e1-a93383d9a9b3/published_models/a62d33e2-3558-4085-9df5-1cc484b13869\",\"created_at\":\"2018-02-18T03:50:36.310Z\",\"modified_at\":\"2018-02-18T03:50:36.405Z\"},\"entity\":{\"runtime_environment\":\"python-3.5\",\"learning_configuration_url\":\"https://ibm-watson-ml.mybluemix.net/v3/wml_instances/a9690a63-f303-409a-87e1-a93383d9a9b3/published_models/a62d33e2-3558-4085-9df5-1cc484b13869/learning_configuration\",\"author\":{\"name\":\"sumit bhalla\",\"email\":\"sbhalla0@in.ibm.com\"},\"name\":\"Hand-written digits recognition\",\"learning_iterations_url\":\"https://ibm-watson-ml.mybluemix.net/v3/wml_instances/a9690a63-f303-409a-87e1-a93383d9a9b3/published_models/a62d33e2-3558-4085-9df5-1cc484b13869/learning_iterations\",\"feedback_url\":\"https://ibm-watson-ml.mybluemix.net/v3/wml_instances/a9690a63-f303-409a-87e1-a93383d9a9b3/published_models/a62d33e2-3558-4085-9df5-1cc484b13869/feedback\",\"latest_version\":{\"url\":\"https://ibm-watson-ml.mybluemix.net/v3/ml_assets/models/a62d33e2-3558-4085-9df5-1cc484b13869/versions/c029d26c-f4ba-4c31-a0d3-83b9d215a918\",\"guid\":\"c029d26c-f4ba-4c31-a0d3-83b9d215a918\",\"created_at\":\"2018-02-18T03:50:36.405Z\"},\"model_type\":\"scikit-learn-0.17\",\"deployments\":{\"count\":0,\"url\":\"https://ibm-watson-ml.mybluemix.net/v3/wml_instances/a9690a63-f303-409a-87e1-a93383d9a9b3/published_models/a62d33e2-3558-4085-9df5-1cc484b13869/deployments\"},\"evaluation_metrics_url\":\"https://ibm-watson-ml.mybluemix.net/v3/wml_instances/a9690a63-f303-409a-87e1-a93383d9a9b3/published_models/a62d33e2-3558-4085-9df5-1cc484b13869/evaluation_metrics\"}},{\"metadata\":{\"guid\":\"9c1da404-cf40-4e16-bb02-28703bb87467\",\"url\":\"https://ibm-watson-ml.mybluemix.net/v3/wml_instances/a9690a63-f303-409a-87e1-a93383d9a9b3/published_models/9c1da404-cf40-4e16-bb02-28703bb87467\",\"created_at\":\"2018-02-18T17:58:50.704Z\",\"modified_at\":\"2018-02-18T17:58:50.852Z\"},\"entity\":{\"runtime_environment\":\"python-3.5\",\"learning_configuration_url\":\"https://ibm-watson-ml.mybluemix.net/v3/wml_instances/a9690a63-f303-409a-87e1-a93383d9a9b3/published_models/9c1da404-cf40-4e16-bb02-28703bb87467/learning_configuration\",\"author\":{\"name\":\"sumit bhalla\",\"email\":\"sbhalla0@in.ibm.com\"},\"name\":\"Hand-written digits recognition\",\"learning_iterations_url\":\"https://ibm-watson-ml.mybluemix.net/v3/wml_instances/a9690a63-f303-409a-87e1-a93383d9a9b3/published_models/9c1da404-cf40-4e16-bb02-28703bb87467/learning_iterations\",\"feedback_url\":\"https://ibm-watson-ml.mybluemix.net/v3/wml_instances/a9690a63-f303-409a-87e1-a93383d9a9b3/published_models/9c1da404-cf40-4e16-bb02-28703bb87467/feedback\",\"latest_version\":{\"url\":\"https://ibm-watson-ml.mybluemix.net/v3/ml_assets/models/9c1da404-cf40-4e16-bb02-28703bb87467/versions/435eb0c1-705e-4e30-993c-7dc35af321f5\",\"guid\":\"435eb0c1-705e-4e30-993c-7dc35af321f5\",\"created_at\":\"2018-02-18T17:58:50.852Z\"},\"model_type\":\"scikit-learn-0.17\",\"deployments\":{\"count\":0,\"url\":\"https://ibm-watson-ml.mybluemix.net/v3/wml_instances/a9690a63-f303-409a-87e1-a93383d9a9b3/published_models/9c1da404-cf40-4e16-bb02-28703bb87467/deployments\"},\"evaluation_metrics_url\":\"https://ibm-watson-ml.mybluemix.net/v3/wml_instances/a9690a63-f303-409a-87e1-a93383d9a9b3/published_models/9c1da404-cf40-4e16-bb02-28703bb87467/evaluation_metrics\"}}]}\n"
     ]
    }
   ],
   "source": [
    "header = {'Content-Type': 'application/json', 'Authorization': 'Bearer ' + mltoken}\n",
    "response_get = requests.get(endpoint_published_models, headers=header)\n",
    "\n",
    "print(response_get)\n",
    "print(response_get.text)"
   ]
  },
  {
   "cell_type": "markdown",
   "metadata": {},
   "source": [
    "#### Get published model deployment url"
   ]
  },
  {
   "cell_type": "code",
   "execution_count": 33,
   "metadata": {
    "collapsed": false
   },
   "outputs": [
    {
     "name": "stdout",
     "output_type": "stream",
     "text": [
      "https://ibm-watson-ml.mybluemix.net/v3/wml_instances/a9690a63-f303-409a-87e1-a93383d9a9b3/published_models/9c1da404-cf40-4e16-bb02-28703bb87467/deployments\n"
     ]
    }
   ],
   "source": [
    "[endpoint_deployments] = [x.get('entity').get('deployments').get('url') for x in json.loads(response_get.text).get('resources') if x.get('metadata').get('guid') == saved_model.uid]\n",
    "\n",
    "print(endpoint_deployments)"
   ]
  },
  {
   "cell_type": "markdown",
   "metadata": {},
   "source": [
    "#### Create online deployment for published model"
   ]
  },
  {
   "cell_type": "code",
   "execution_count": 34,
   "metadata": {
    "collapsed": false
   },
   "outputs": [
    {
     "name": "stdout",
     "output_type": "stream",
     "text": [
      "<Response [201]>\n",
      "{\"metadata\":{\"guid\":\"990f9328-9804-471b-96f9-e355380f24d4\",\"url\":\"https://ibm-watson-ml.mybluemix.net/v3/wml_instances/a9690a63-f303-409a-87e1-a93383d9a9b3/published_models/9c1da404-cf40-4e16-bb02-28703bb87467/deployments/990f9328-9804-471b-96f9-e355380f24d4\",\"created_at\":\"2018-02-18T18:20:23.059Z\",\"modified_at\":\"2018-02-18T18:20:23.824Z\"},\"entity\":{\"runtime_environment\":\"python-3.5\",\"name\":\"Hand written digits recognition\",\"scoring_url\":\"https://ibm-watson-ml.mybluemix.net/v3/wml_instances/a9690a63-f303-409a-87e1-a93383d9a9b3/published_models/9c1da404-cf40-4e16-bb02-28703bb87467/deployments/990f9328-9804-471b-96f9-e355380f24d4/online\",\"description\":\"Hand Written Digits Deployment\",\"published_model\":{\"author\":{\"name\":\"sumit bhalla\",\"email\":\"sbhalla0@in.ibm.com\"},\"name\":\"Hand-written digits recognition\",\"url\":\"https://ibm-watson-ml.mybluemix.net/v3/wml_instances/a9690a63-f303-409a-87e1-a93383d9a9b3/published_models/9c1da404-cf40-4e16-bb02-28703bb87467\",\"guid\":\"9c1da404-cf40-4e16-bb02-28703bb87467\",\"created_at\":\"2018-02-18T18:20:23.026Z\"},\"model_type\":\"scikit-learn-0.17\",\"status\":\"INITIALIZING\",\"type\":\"online\",\"deployed_version\":{\"url\":\"https://ibm-watson-ml.mybluemix.net/v3/ml_assets/models/9c1da404-cf40-4e16-bb02-28703bb87467/versions/435eb0c1-705e-4e30-993c-7dc35af321f5\",\"guid\":\"435eb0c1-705e-4e30-993c-7dc35af321f5\"}}}\n"
     ]
    }
   ],
   "source": [
    "payload_online = {\"name\": \"Hand written digits recognition\", \"description\": \"Hand Written Digits Deployment\", \"type\": \"online\"}\n",
    "response_online = requests.post(endpoint_deployments, json=payload_online, headers=header)\n",
    "\n",
    "print(response_online)\n",
    "print(response_online.text)"
   ]
  },
  {
   "cell_type": "code",
   "execution_count": 35,
   "metadata": {
    "collapsed": false
   },
   "outputs": [
    {
     "name": "stdout",
     "output_type": "stream",
     "text": [
      "https://ibm-watson-ml.mybluemix.net/v3/wml_instances/a9690a63-f303-409a-87e1-a93383d9a9b3/published_models/9c1da404-cf40-4e16-bb02-28703bb87467/deployments/990f9328-9804-471b-96f9-e355380f24d4/online\n"
     ]
    }
   ],
   "source": [
    "scoring_url = json.loads(response_online.text).get('entity').get('scoring_url')\n",
    "\n",
    "print(scoring_url)"
   ]
  },
  {
   "cell_type": "markdown",
   "metadata": {},
   "source": [
    " Now, you can send (POST) new scoring records (new data) for which you would like to get predictions. To do that, execute the following sample code: "
   ]
  },
  {
   "cell_type": "code",
   "execution_count": 36,
   "metadata": {
    "collapsed": true
   },
   "outputs": [],
   "source": [
    "digit = list(digits.data[1])\n",
    "digit2 = list(digits.data[2])"
   ]
  },
  {
   "cell_type": "code",
   "execution_count": 37,
   "metadata": {
    "collapsed": false
   },
   "outputs": [
    {
     "name": "stdout",
     "output_type": "stream",
     "text": [
      "{'values': [[0.0, 0.0, 0.0, 12.0, 13.0, 5.0, 0.0, 0.0, 0.0, 0.0, 0.0, 11.0, 16.0, 9.0, 0.0, 0.0, 0.0, 0.0, 3.0, 15.0, 16.0, 6.0, 0.0, 0.0, 0.0, 7.0, 15.0, 16.0, 16.0, 2.0, 0.0, 0.0, 0.0, 0.0, 1.0, 16.0, 16.0, 3.0, 0.0, 0.0, 0.0, 0.0, 1.0, 16.0, 16.0, 6.0, 0.0, 0.0, 0.0, 0.0, 1.0, 16.0, 16.0, 6.0, 0.0, 0.0, 0.0, 0.0, 0.0, 11.0, 16.0, 10.0, 0.0, 0.0], [0.0, 0.0, 0.0, 4.0, 15.0, 12.0, 0.0, 0.0, 0.0, 0.0, 3.0, 16.0, 15.0, 14.0, 0.0, 0.0, 0.0, 0.0, 8.0, 13.0, 8.0, 16.0, 0.0, 0.0, 0.0, 0.0, 1.0, 6.0, 15.0, 11.0, 0.0, 0.0, 0.0, 1.0, 8.0, 13.0, 15.0, 1.0, 0.0, 0.0, 0.0, 9.0, 16.0, 16.0, 5.0, 0.0, 0.0, 0.0, 0.0, 3.0, 13.0, 16.0, 16.0, 11.0, 5.0, 0.0, 0.0, 0.0, 0.0, 3.0, 11.0, 16.0, 9.0, 0.0]]}\n"
     ]
    }
   ],
   "source": [
    "payload_scoring = {\"values\": [digit, digit2]}\n",
    "print(payload_scoring)"
   ]
  },
  {
   "cell_type": "code",
   "execution_count": 38,
   "metadata": {
    "collapsed": false
   },
   "outputs": [
    {
     "name": "stdout",
     "output_type": "stream",
     "text": [
      "{\"fields\":[\"prediction\"],\"values\":[[1],[2]]}\n"
     ]
    }
   ],
   "source": [
    "response_scoring = requests.post(scoring_url, json=payload_scoring, headers=header)\n",
    "\n",
    "print(response_scoring.text)"
   ]
  },
  {
   "cell_type": "markdown",
   "metadata": {},
   "source": [
    "As we can see we predict that hand-written digits are: 1 and 2."
   ]
  },
  {
   "cell_type": "markdown",
   "metadata": {
    "collapsed": true
   },
   "source": [
    "<a id=\"summary\"></a>\n",
    "## 7. Summary and next steps     "
   ]
  },
  {
   "cell_type": "markdown",
   "metadata": {
    "collapsed": true
   },
   "source": [
    " You successfully completed this notebook! You learned how to use scikit-learn machine learning as well as Watson Machine Learning for model creation and deployment. Check out our _[Online Documentation](https://console.ng.bluemix.net/docs/services/PredictiveModeling/index.html?pos=2)_ for more samples, tutorials, documentation, how-tos, and blog posts. "
   ]
  },
  {
   "cell_type": "markdown",
   "metadata": {},
   "source": [
    "### Authors\n",
    "\n",
    "**Lukasz Cmielowski**, PhD, is a Automation Architect and Data Scientist in IBM with a track record of developing enterprise-level applications that substantially increases clients' ability to turn data into actionable knowledge."
   ]
  },
  {
   "cell_type": "markdown",
   "metadata": {},
   "source": [
    "Copyright © 2017 IBM. This notebook and its source code are released under the terms of the MIT License."
   ]
  }
 ],
 "metadata": {
  "kernelspec": {
   "display_name": "Python [conda env:dlnd-tf-lab]",
   "language": "python",
   "name": "conda-env-dlnd-tf-lab-py"
  },
  "language_info": {
   "codemirror_mode": {
    "name": "ipython",
    "version": 3
   },
   "file_extension": ".py",
   "mimetype": "text/x-python",
   "name": "python",
   "nbconvert_exporter": "python",
   "pygments_lexer": "ipython3",
   "version": "3.5.2"
  }
 },
 "nbformat": 4,
 "nbformat_minor": 1
}
